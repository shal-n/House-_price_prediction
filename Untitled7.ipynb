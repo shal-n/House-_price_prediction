{
  "nbformat": 4,
  "nbformat_minor": 0,
  "metadata": {
    "colab": {
      "name": "Untitled7.ipynb",
      "provenance": [],
      "authorship_tag": "ABX9TyPzzBdt77m46YIv9+nC8Lkl",
      "include_colab_link": true
    },
    "kernelspec": {
      "name": "python3",
      "display_name": "Python 3"
    }
  },
  "cells": [
    {
      "cell_type": "markdown",
      "metadata": {
        "id": "view-in-github",
        "colab_type": "text"
      },
      "source": [
        "<a href=\"https://colab.research.google.com/github/shal-n/House-_price_prediction/blob/master/Untitled7.ipynb\" target=\"_parent\"><img src=\"https://colab.research.google.com/assets/colab-badge.svg\" alt=\"Open In Colab\"/></a>"
      ]
    },
    {
      "cell_type": "code",
      "metadata": {
        "id": "mq5NVNZo2L35",
        "colab_type": "code",
        "colab": {}
      },
      "source": [
        "import pandas as pd"
      ],
      "execution_count": 0,
      "outputs": []
    },
    {
      "cell_type": "code",
      "metadata": {
        "id": "Sdo9earV2d71",
        "colab_type": "code",
        "outputId": "12b7beac-c52c-477c-c3a4-04e6502cf498",
        "colab": {
          "base_uri": "https://localhost:8080/",
          "height": 123
        }
      },
      "source": [
        "from google.colab import drive\n",
        "drive.mount('/content/drive/')"
      ],
      "execution_count": 2,
      "outputs": [
        {
          "output_type": "stream",
          "text": [
            "Go to this URL in a browser: https://accounts.google.com/o/oauth2/auth?client_id=947318989803-6bn6qk8qdgf4n4g3pfee6491hc0brc4i.apps.googleusercontent.com&redirect_uri=urn%3aietf%3awg%3aoauth%3a2.0%3aoob&response_type=code&scope=email%20https%3a%2f%2fwww.googleapis.com%2fauth%2fdocs.test%20https%3a%2f%2fwww.googleapis.com%2fauth%2fdrive%20https%3a%2f%2fwww.googleapis.com%2fauth%2fdrive.photos.readonly%20https%3a%2f%2fwww.googleapis.com%2fauth%2fpeopleapi.readonly\n",
            "\n",
            "Enter your authorization code:\n",
            "··········\n",
            "Mounted at /content/drive/\n"
          ],
          "name": "stdout"
        }
      ]
    },
    {
      "cell_type": "code",
      "metadata": {
        "id": "qouN7WVZ2_Gz",
        "colab_type": "code",
        "colab": {}
      },
      "source": [
        "path = '/content/drive/My Drive/'"
      ],
      "execution_count": 0,
      "outputs": []
    },
    {
      "cell_type": "code",
      "metadata": {
        "id": "ziEgKcIa3WfW",
        "colab_type": "code",
        "colab": {}
      },
      "source": [
        "df = pd.read_csv(path+'housing_train.csv')"
      ],
      "execution_count": 0,
      "outputs": []
    },
    {
      "cell_type": "code",
      "metadata": {
        "id": "p2HNQxLp31jG",
        "colab_type": "code",
        "outputId": "173fcc50-aca1-4ebf-c3d1-6906a5c2e876",
        "colab": {
          "base_uri": "https://localhost:8080/",
          "height": 745
        }
      },
      "source": [
        "df"
      ],
      "execution_count": 5,
      "outputs": [
        {
          "output_type": "execute_result",
          "data": {
            "text/html": [
              "<div>\n",
              "<style scoped>\n",
              "    .dataframe tbody tr th:only-of-type {\n",
              "        vertical-align: middle;\n",
              "    }\n",
              "\n",
              "    .dataframe tbody tr th {\n",
              "        vertical-align: top;\n",
              "    }\n",
              "\n",
              "    .dataframe thead th {\n",
              "        text-align: right;\n",
              "    }\n",
              "</style>\n",
              "<table border=\"1\" class=\"dataframe\">\n",
              "  <thead>\n",
              "    <tr style=\"text-align: right;\">\n",
              "      <th></th>\n",
              "      <th>id</th>\n",
              "      <th>url</th>\n",
              "      <th>region</th>\n",
              "      <th>region_url</th>\n",
              "      <th>price</th>\n",
              "      <th>type</th>\n",
              "      <th>sqfeet</th>\n",
              "      <th>beds</th>\n",
              "      <th>baths</th>\n",
              "      <th>cats_allowed</th>\n",
              "      <th>dogs_allowed</th>\n",
              "      <th>smoking_allowed</th>\n",
              "      <th>wheelchair_access</th>\n",
              "      <th>electric_vehicle_charge</th>\n",
              "      <th>comes_furnished</th>\n",
              "      <th>laundry_options</th>\n",
              "      <th>parking_options</th>\n",
              "      <th>image_url</th>\n",
              "      <th>description</th>\n",
              "      <th>lat</th>\n",
              "      <th>long</th>\n",
              "      <th>state</th>\n",
              "    </tr>\n",
              "  </thead>\n",
              "  <tbody>\n",
              "    <tr>\n",
              "      <th>0</th>\n",
              "      <td>7039061606</td>\n",
              "      <td>https://bham.craigslist.org/apa/d/birmingham-h...</td>\n",
              "      <td>birmingham</td>\n",
              "      <td>https://bham.craigslist.org</td>\n",
              "      <td>1195</td>\n",
              "      <td>apartment</td>\n",
              "      <td>1908</td>\n",
              "      <td>3</td>\n",
              "      <td>2.0</td>\n",
              "      <td>1</td>\n",
              "      <td>1</td>\n",
              "      <td>1</td>\n",
              "      <td>0</td>\n",
              "      <td>0</td>\n",
              "      <td>0</td>\n",
              "      <td>laundry on site</td>\n",
              "      <td>street parking</td>\n",
              "      <td>https://images.craigslist.org/00L0L_80pNkyDeG0...</td>\n",
              "      <td>Apartments In Birmingham AL Welcome to 100 Inv...</td>\n",
              "      <td>33.4226</td>\n",
              "      <td>-86.7065</td>\n",
              "      <td>al</td>\n",
              "    </tr>\n",
              "    <tr>\n",
              "      <th>1</th>\n",
              "      <td>7041970863</td>\n",
              "      <td>https://bham.craigslist.org/apa/d/birmingham-w...</td>\n",
              "      <td>birmingham</td>\n",
              "      <td>https://bham.craigslist.org</td>\n",
              "      <td>1120</td>\n",
              "      <td>apartment</td>\n",
              "      <td>1319</td>\n",
              "      <td>3</td>\n",
              "      <td>2.0</td>\n",
              "      <td>1</td>\n",
              "      <td>1</td>\n",
              "      <td>1</td>\n",
              "      <td>0</td>\n",
              "      <td>0</td>\n",
              "      <td>0</td>\n",
              "      <td>laundry on site</td>\n",
              "      <td>off-street parking</td>\n",
              "      <td>https://images.craigslist.org/00707_uRrY9CsNMC...</td>\n",
              "      <td>Find Your Way to Haven Apartment Homes Come ho...</td>\n",
              "      <td>33.3755</td>\n",
              "      <td>-86.8045</td>\n",
              "      <td>al</td>\n",
              "    </tr>\n",
              "    <tr>\n",
              "      <th>2</th>\n",
              "      <td>7041966914</td>\n",
              "      <td>https://bham.craigslist.org/apa/d/birmingham-g...</td>\n",
              "      <td>birmingham</td>\n",
              "      <td>https://bham.craigslist.org</td>\n",
              "      <td>825</td>\n",
              "      <td>apartment</td>\n",
              "      <td>1133</td>\n",
              "      <td>1</td>\n",
              "      <td>1.5</td>\n",
              "      <td>1</td>\n",
              "      <td>1</td>\n",
              "      <td>1</td>\n",
              "      <td>0</td>\n",
              "      <td>0</td>\n",
              "      <td>0</td>\n",
              "      <td>laundry on site</td>\n",
              "      <td>street parking</td>\n",
              "      <td>https://images.craigslist.org/00h0h_b7Bdj1NLBi...</td>\n",
              "      <td>Apartments In Birmingham AL Welcome to 100 Inv...</td>\n",
              "      <td>33.4226</td>\n",
              "      <td>-86.7065</td>\n",
              "      <td>al</td>\n",
              "    </tr>\n",
              "    <tr>\n",
              "      <th>3</th>\n",
              "      <td>7041966936</td>\n",
              "      <td>https://bham.craigslist.org/apa/d/birmingham-f...</td>\n",
              "      <td>birmingham</td>\n",
              "      <td>https://bham.craigslist.org</td>\n",
              "      <td>800</td>\n",
              "      <td>apartment</td>\n",
              "      <td>927</td>\n",
              "      <td>1</td>\n",
              "      <td>1.0</td>\n",
              "      <td>1</td>\n",
              "      <td>1</td>\n",
              "      <td>1</td>\n",
              "      <td>0</td>\n",
              "      <td>0</td>\n",
              "      <td>0</td>\n",
              "      <td>laundry on site</td>\n",
              "      <td>street parking</td>\n",
              "      <td>https://images.craigslist.org/00808_6ghZ8tSRQs...</td>\n",
              "      <td>Apartments In Birmingham AL Welcome to 100 Inv...</td>\n",
              "      <td>33.4226</td>\n",
              "      <td>-86.7065</td>\n",
              "      <td>al</td>\n",
              "    </tr>\n",
              "    <tr>\n",
              "      <th>4</th>\n",
              "      <td>7041966888</td>\n",
              "      <td>https://bham.craigslist.org/apa/d/birmingham-2...</td>\n",
              "      <td>birmingham</td>\n",
              "      <td>https://bham.craigslist.org</td>\n",
              "      <td>785</td>\n",
              "      <td>apartment</td>\n",
              "      <td>1047</td>\n",
              "      <td>2</td>\n",
              "      <td>1.0</td>\n",
              "      <td>1</td>\n",
              "      <td>1</td>\n",
              "      <td>1</td>\n",
              "      <td>0</td>\n",
              "      <td>0</td>\n",
              "      <td>0</td>\n",
              "      <td>laundry on site</td>\n",
              "      <td>street parking</td>\n",
              "      <td>https://images.craigslist.org/00y0y_21c0FOvUXm...</td>\n",
              "      <td>Apartments In Birmingham AL Welcome to 100 Inv...</td>\n",
              "      <td>33.4226</td>\n",
              "      <td>-86.7065</td>\n",
              "      <td>al</td>\n",
              "    </tr>\n",
              "    <tr>\n",
              "      <th>...</th>\n",
              "      <td>...</td>\n",
              "      <td>...</td>\n",
              "      <td>...</td>\n",
              "      <td>...</td>\n",
              "      <td>...</td>\n",
              "      <td>...</td>\n",
              "      <td>...</td>\n",
              "      <td>...</td>\n",
              "      <td>...</td>\n",
              "      <td>...</td>\n",
              "      <td>...</td>\n",
              "      <td>...</td>\n",
              "      <td>...</td>\n",
              "      <td>...</td>\n",
              "      <td>...</td>\n",
              "      <td>...</td>\n",
              "      <td>...</td>\n",
              "      <td>...</td>\n",
              "      <td>...</td>\n",
              "      <td>...</td>\n",
              "      <td>...</td>\n",
              "      <td>...</td>\n",
              "    </tr>\n",
              "    <tr>\n",
              "      <th>265185</th>\n",
              "      <td>7050851033</td>\n",
              "      <td>https://columbus.craigslist.org/apa/d/columbus...</td>\n",
              "      <td>columbus</td>\n",
              "      <td>https://columbus.craigslist.org</td>\n",
              "      <td>0</td>\n",
              "      <td>apartment</td>\n",
              "      <td>1061</td>\n",
              "      <td>2</td>\n",
              "      <td>2.0</td>\n",
              "      <td>1</td>\n",
              "      <td>1</td>\n",
              "      <td>1</td>\n",
              "      <td>0</td>\n",
              "      <td>0</td>\n",
              "      <td>0</td>\n",
              "      <td>w/d in unit</td>\n",
              "      <td>detached garage</td>\n",
              "      <td>https://images.craigslist.org/00m0m_8wP9hX96TZ...</td>\n",
              "      <td>â BERKLEY HOUSE â   Voted #1 BEST Communit...</td>\n",
              "      <td>40.0495</td>\n",
              "      <td>-83.0669</td>\n",
              "      <td>oh</td>\n",
              "    </tr>\n",
              "    <tr>\n",
              "      <th>265186</th>\n",
              "      <td>7050887997</td>\n",
              "      <td>https://columbus.craigslist.org/apa/d/grove-ci...</td>\n",
              "      <td>columbus</td>\n",
              "      <td>https://columbus.craigslist.org</td>\n",
              "      <td>1069</td>\n",
              "      <td>apartment</td>\n",
              "      <td>1020</td>\n",
              "      <td>2</td>\n",
              "      <td>1.5</td>\n",
              "      <td>1</td>\n",
              "      <td>1</td>\n",
              "      <td>1</td>\n",
              "      <td>0</td>\n",
              "      <td>0</td>\n",
              "      <td>0</td>\n",
              "      <td>w/d hookups</td>\n",
              "      <td>detached garage</td>\n",
              "      <td>https://images.craigslist.org/00N0N_ioCvFNCv24...</td>\n",
              "      <td>!!!!Tour today and receive $5 Starbucks gift c...</td>\n",
              "      <td>39.8408</td>\n",
              "      <td>-83.0804</td>\n",
              "      <td>oh</td>\n",
              "    </tr>\n",
              "    <tr>\n",
              "      <th>265187</th>\n",
              "      <td>7044801015</td>\n",
              "      <td>https://columbus.craigslist.org/apa/d/columbus...</td>\n",
              "      <td>columbus</td>\n",
              "      <td>https://columbus.craigslist.org</td>\n",
              "      <td>1507</td>\n",
              "      <td>apartment</td>\n",
              "      <td>1660</td>\n",
              "      <td>2</td>\n",
              "      <td>1.5</td>\n",
              "      <td>1</td>\n",
              "      <td>1</td>\n",
              "      <td>1</td>\n",
              "      <td>0</td>\n",
              "      <td>0</td>\n",
              "      <td>0</td>\n",
              "      <td>NaN</td>\n",
              "      <td>NaN</td>\n",
              "      <td>https://images.craigslist.org/00j0j_5EIRWzdHCV...</td>\n",
              "      <td>The Commons at Olentangy4765 Blairfield Dr, Co...</td>\n",
              "      <td>40.0564</td>\n",
              "      <td>-83.0417</td>\n",
              "      <td>oh</td>\n",
              "    </tr>\n",
              "    <tr>\n",
              "      <th>265188</th>\n",
              "      <td>7050885800</td>\n",
              "      <td>https://columbus.craigslist.org/apa/d/newark-l...</td>\n",
              "      <td>columbus</td>\n",
              "      <td>https://columbus.craigslist.org</td>\n",
              "      <td>1001</td>\n",
              "      <td>apartment</td>\n",
              "      <td>1220</td>\n",
              "      <td>3</td>\n",
              "      <td>1.5</td>\n",
              "      <td>1</td>\n",
              "      <td>1</td>\n",
              "      <td>1</td>\n",
              "      <td>0</td>\n",
              "      <td>0</td>\n",
              "      <td>0</td>\n",
              "      <td>w/d hookups</td>\n",
              "      <td>off-street parking</td>\n",
              "      <td>https://images.craigslist.org/00J0J_6VSTqFJb86...</td>\n",
              "      <td>www.McMillenWoods.com  www.mcmillenwoods.com  ...</td>\n",
              "      <td>40.0451</td>\n",
              "      <td>-82.4564</td>\n",
              "      <td>oh</td>\n",
              "    </tr>\n",
              "    <tr>\n",
              "      <th>265189</th>\n",
              "      <td>7050884586</td>\n",
              "      <td>https://columbus.craigslist.org/apa/d/columbus...</td>\n",
              "      <td>columbus</td>\n",
              "      <td>https://columbus.craigslist.org</td>\n",
              "      <td>1164</td>\n",
              "      <td>townhouse</td>\n",
              "      <td>1300</td>\n",
              "      <td>2</td>\n",
              "      <td>2.5</td>\n",
              "      <td>1</td>\n",
              "      <td>1</td>\n",
              "      <td>0</td>\n",
              "      <td>0</td>\n",
              "      <td>0</td>\n",
              "      <td>0</td>\n",
              "      <td>w/d hookups</td>\n",
              "      <td>attached garage</td>\n",
              "      <td>https://images.craigslist.org/00w0w_h1L3gxb8rG...</td>\n",
              "      <td>Park Club apartments is offering some of the B...</td>\n",
              "      <td>NaN</td>\n",
              "      <td>NaN</td>\n",
              "      <td>NaN</td>\n",
              "    </tr>\n",
              "  </tbody>\n",
              "</table>\n",
              "<p>265190 rows × 22 columns</p>\n",
              "</div>"
            ],
            "text/plain": [
              "                id  ... state\n",
              "0       7039061606  ...    al\n",
              "1       7041970863  ...    al\n",
              "2       7041966914  ...    al\n",
              "3       7041966936  ...    al\n",
              "4       7041966888  ...    al\n",
              "...            ...  ...   ...\n",
              "265185  7050851033  ...    oh\n",
              "265186  7050887997  ...    oh\n",
              "265187  7044801015  ...    oh\n",
              "265188  7050885800  ...    oh\n",
              "265189  7050884586  ...   NaN\n",
              "\n",
              "[265190 rows x 22 columns]"
            ]
          },
          "metadata": {
            "tags": []
          },
          "execution_count": 5
        }
      ]
    },
    {
      "cell_type": "code",
      "metadata": {
        "id": "HK_KK45p4Bfu",
        "colab_type": "code",
        "outputId": "eeb1860e-b718-4fea-c154-6c9baa3d9137",
        "colab": {
          "base_uri": "https://localhost:8080/",
          "height": 123
        }
      },
      "source": [
        "y = df['price']\n",
        "independent_variables = df.columns \n",
        "independent_variables = independent_variables.delete(0)\n",
        "independent_variables = independent_variables.delete(3)\n",
        "independent_variables = independent_variables.delete(0)\n",
        "independent_variables"
      ],
      "execution_count": 6,
      "outputs": [
        {
          "output_type": "execute_result",
          "data": {
            "text/plain": [
              "Index(['region', 'region_url', 'type', 'sqfeet', 'beds', 'baths',\n",
              "       'cats_allowed', 'dogs_allowed', 'smoking_allowed', 'wheelchair_access',\n",
              "       'electric_vehicle_charge', 'comes_furnished', 'laundry_options',\n",
              "       'parking_options', 'image_url', 'description', 'lat', 'long', 'state'],\n",
              "      dtype='object')"
            ]
          },
          "metadata": {
            "tags": []
          },
          "execution_count": 6
        }
      ]
    },
    {
      "cell_type": "code",
      "metadata": {
        "id": "hzYx16nN_An6",
        "colab_type": "code",
        "outputId": "d80e1bef-fb97-43b1-9b55-d7265032109d",
        "colab": {
          "base_uri": "https://localhost:8080/",
          "height": 71
        }
      },
      "source": [
        "from statsmodels.stats.outliers_influence import variance_inflation_factor\n",
        "X = df[independent_variables]"
      ],
      "execution_count": 7,
      "outputs": [
        {
          "output_type": "stream",
          "text": [
            "/usr/local/lib/python3.6/dist-packages/statsmodels/tools/_testing.py:19: FutureWarning: pandas.util.testing is deprecated. Use the functions in the public API at pandas.testing instead.\n",
            "  import pandas.util.testing as tm\n"
          ],
          "name": "stderr"
        }
      ]
    },
    {
      "cell_type": "code",
      "metadata": {
        "id": "dQXBpqatM4bn",
        "colab_type": "code",
        "outputId": "20b678f9-d117-4044-de31-041f1bd5c2ce",
        "colab": {
          "base_uri": "https://localhost:8080/",
          "height": 150
        }
      },
      "source": [
        "for i in range(len(independent_variables)):\n",
        "   vif_list = [vif(X(independent_variables).values,index) for index in range(18)]\n",
        "       iteam = max(vif_list)\n",
        "       iteam_index = vif_list.index(iteam)\n",
        "     if iteam > 18:\n",
        "       independent_variables = independent_variables.delete(iteam_index)\n",
        "print(independent_variables)"
      ],
      "execution_count": 18,
      "outputs": [
        {
          "output_type": "error",
          "ename": "IndentationError",
          "evalue": "ignored",
          "traceback": [
            "\u001b[0;36m  File \u001b[0;32m\"<ipython-input-18-2052b85a69f8>\"\u001b[0;36m, line \u001b[0;32m3\u001b[0m\n\u001b[0;31m    iteam = max(vif_list)\u001b[0m\n\u001b[0m    ^\u001b[0m\n\u001b[0;31mIndentationError\u001b[0m\u001b[0;31m:\u001b[0m unexpected indent\n"
          ]
        }
      ]
    },
    {
      "cell_type": "code",
      "metadata": {
        "id": "qPvzBYfzaF_P",
        "colab_type": "code",
        "colab": {}
      },
      "source": [
        ""
      ],
      "execution_count": 0,
      "outputs": []
    }
  ]
}